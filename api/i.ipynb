{
 "cells": [
  {
   "cell_type": "code",
   "execution_count": 2,
   "id": "cba05763",
   "metadata": {},
   "outputs": [],
   "source": [
    "response=b'{\"response\":{\"video_id\":\"-8NURSdnTcg\",\"question\":\"Who is messmer\",\"documents\":[[\"path of becoming the Lord of frenzied Flame this power could melt away everything even the immortal Spiritswhich hold a big place in the horns scent beliefs and culture so they forbid it but this act alone by midra was a direct threat to them they overran the mansion and tortured his servants we can actually find their bodies outside the house with the sword of damnation they had an execution like no other using the weapon to pierce his body the golden barbs inflicted Eternal Agony except his lady nanaya told him to endure so he\",\"weapon to pierce his body the golden barbs inflicted Eternal Agony except his lady nanaya told him to endure so heresisted The Madness of the frenzied flame we can actually see nanaya clutching at an individual who failed to become a lord what is left of their body is is just a spine although once we encounter midra he could resist no longer and lets it overtake him my theory is midra was originally not strong enough to become the Lord of frenzied flame but the endless time spent enduring the pain brought him to\",\"strong enough to become the Lord of frenzied flame but the endless time spent enduring the pain brought him tothe level where for a short amount of time he could withstand the madness and now let\\'s talk about the final boss mola is an imperi who has the ability to charm others manipulating them into doing what he desires the goal of Micha is to be reborn as a God in preparation for this he abandoned parts of his body all throughout the shadow realm most notably his other self and loving part of his body St Trina we shortly learned\",\"all throughout the shadow realm most notably his other self and loving part of his body St Trina we shortly learnedthat Trina desires for you to kill mola stating that godhood would be a prison back at the tower of Shadow there is a Divine Gateway where Mika intends to ascend to godhood this is the same place where Amica ascend ended too although to become a God one needs a Lord and a vessel for that Lord\\'s Soul harnessing the ability of his charm Micha used Moog to enter the shadow realm although it\",\"vessel for that Lord\\'s Soul harnessing the ability of his charm Micha used Moog to enter the shadow realm although itdidn\\'t stop there and he needs a vessel and that\\'s where you come in killing Moog swiftly his body was stolen and brought to Mika now all that was needed is a lord soul in mola\\'s childhood he was impressed by redon\\'s strength which contrasted him and his sister\\'s cursed bodies so he made a heartfelt wish for Radon to become his consort meaning his spouse except radon denied the offer so\",\"bodies so he made a heartfelt wish for Radon to become his consort meaning his spouse except radon denied the offer soMika came up with a plan to forcibly take radon as his consort he then sent melenia to kill him and in this cut scene we finally know what she says uttering the words Micha awaits the O promised consort except Ron was too strong and this is once again where you come in killing redon mola now puts Ron\\'s Soul into Mo\\'s body creating his consort and that\\'s also why you can see horns sprouting throughout him mola wish\",\"Ron\\'s Soul into Mo\\'s body creating his consort and that\\'s also why you can see horns sprouting throughout him mola wishto usher in the age of compassion although instead we fulfill St Trina\\'s wish and kill them both gaining the remembrance of a God and a Lord and that is the lore of every main boss if you want more lore and more bosses click this video right here thanks for watching all right I\\'ll see you\",\"seal holding back the Abyssal serpent this showed his true curse in his final moments he calls upon his mother OneLast Time ending one of the more sympathetic characters in the entire game and of course if you are enjoying this video subscribing does just genuinely help out a lot and I am nearing 100K which is a goal I would just love to reach so thanks in advance and now let\\'s talk about the dancing lion horned Warriors are chosen to become Divine Beast Warriors based on their skill in combat among them those\",\"lion horned Warriors are chosen to become Divine Beast Warriors based on their skill in combat among them thosewho excel in Divine invocation are selected to become sculpted Keepers from this role they wear the lion costume and have the high honor to perform the ritual of the lion dance if you look under its cloak we\\'re shown that this boss is just two guys in a costume and closer inspection displays the main dancer using one hand to control the mouth and the other to adjust the head these sculpted keepers are messengers of\",\"dancer using one hand to control the mouth and the other to adjust the head these sculpted keepers are messengers ofthe heavens and the act of divine inic ation which is calling Upon A Divine or spiritual force is likely done through their lion dance this Divine invocation is also what gives them their power although like many of these bosses they suffered from mesmer\\'s Crusade from horns Cent descent they are pretty much the prime targets and the majority of them were impaled and burned at the\"]],\"answer\":\"**A Covert Title:** Operation: Elden Lore Synthesis - Phase I: Ascensions and Sacrifices\\\\n\\\\n**Executive Overview:**\\\\nThis debrief synthesizes critical intelligence regarding several key figures and events within the realm, detailing Midra\\'s tragic pursuit of the Frenzied Flame and his eventual succumbing to its madness despite Lady Nanaya\\'s efforts. It then shifts focus to Miquella\\'s ambitious quest for godhood, his manipulation of Mohg, and the forcible creation of his consort using Radahn\\'s soul, ultimately thwarted by the operative\\'s intervention in alignment with St. Trina\\'s wishes. The report concludes with an analysis of a sympathetic character\\'s final moments and the origins and fate of the Dancing Lion\\'s Sculpted Keepers, who suffered greatly during Mesmer\\'s Crusade.\\\\n\\\\n**Key Events Log (Table of Contents):**\\\\n*   **00s-120s: The Tragedy of Midra and the Frenzied Flame**\\\\n*   **121s-240s: Miquella\\'s Divine Ambition and St. Trina\\'s Plea**\\\\n*   **241s-360s: The Forcible Creation of Miquella\\'s Consort**\\\\n*   **361s-480s: The Age of Compassion Thwarted & The Dancing Lion\\'s Origin**\\\\n*   **481s-600s: The Sculpted Keepers and Mesmer\\'s Crusade**\\\\n\\\\n**The Full Narrative Debrief:**\\\\n\\\\n**The Tragedy of Midra and the Frenzied Flame**\\\\nThe debrief commences with the tragic account of Midra\\'s pursuit of becoming the Lord of Frenzied Flame (00s). This power, capable of melting away everything, including the revered Immortal Spirits central to the Horns Scent beliefs and culture, was strictly forbidden. Midra\\'s actions were perceived as a direct threat, leading to the overrun of his mansion and the torture of his servants, whose bodies can be found outside. His execution was brutal, involving the Sword of Damnation, whose golden barbs inflicted eternal agony. However, his lady, Nanaya, urged him to endure, allowing him to resist the madness of the Frenzied Flame for a time. Nanaya is observed clutching an individual who failed to become a lord, leaving only a spine. Ultimately, Midra could resist no longer, succumbing to the flame. It is theorized that while Midra was initially not strong enough for the Frenzied Flame, the prolonged suffering elevated him to a state where he could briefly withstand its madness, as detailed up to the 120s mark.\\\\n\\\\n**Miquella\\'s Divine Ambition and St. Trina\\'s Plea**\\\\nFollowing Midra\\'s conclusion, the focus shifts to Miquella, an Empyrean with the ability to charm and manipulate others (121s). Miquella\\'s ultimate goal is to be reborn as a God, a process for which he abandoned parts of his body throughout the Shadow Realm, most notably his other self and loving aspect, St. Trina. St. Trina, however, desires Miquella\\'s demise, believing godhood would be a prison. At the Tower of Shadow, a Divine Gateway exists where Miquella intends to ascend, mirroring Amica\\'s own ascension. To become a God, Miquella requires both a Lord and a vessel for that Lord\\'s soul. Utilizing his charm, Miquella compelled Mohg to enter the Shadow Realm, setting the stage for the next phase of his plan, which unfolds through the 240s mark.\\\\n\\\\n**The Forcible Creation of Miquella\\'s Consort**\\\\nMiquella\\'s plan required not only Mohg\\'s entry into the Shadow Realm but also a suitable vessel. This is where the operative\\'s intervention becomes crucial (241s). After Mohg is swiftly eliminated, his body is stolen and brought to Miquella. The final component needed was a Lord\\'s soul. In his youth, Miquella was impressed by Radahn\\'s strength, a stark contrast to his and his sister\\'s cursed bodies, leading him to wish for Radahn to become his consort. Radahn, however, denied this offer. Undeterred, Miquella devised a plan to forcibly take Radahn as his consort, dispatching Malenia to kill him. In a pivotal cutscene, Malenia utters, \\\\\"Miquella awaits the O promised consort.\\\\\" Radahn proved too formidable for Malenia. Once again, the operative\\'s actions were decisive, leading to Radahn\\'s defeat. Miquella then placed Radahn\\'s soul into Mohg\\'s body, thereby creating his consort, evidenced by the horns sprouting throughout the new form, concluding this segment around 360s.\\\\n\\\\n**The Age of Compassion Thwarted & The Dancing Lion\\'s Origin**\\\\nMiquella\\'s ultimate desire was to usher in an age of compassion (361s). However, the operative\\'s actions fulfilled St. Trina\\'s opposing wish, resulting in the elimination of both Miquella and his newly formed consort, yielding the remembrance of a God and a Lord. The narrative then briefly touches upon a sympathetic character\\'s final moments, who, while holding back the Abyssal serpent, calls upon their mother one last time, revealing their true curse. The debrief then transitions to the lore of the Dancing Lion. Horned Warriors are selected as Divine Beast Warriors based on their combat prowess. Among these, those excelling in Divine Invocation are chosen to become Sculpted Keepers, a process detailed up to the 480s mark.\\\\n\\\\n**The Sculpted Keepers and Mesmer\\'s Crusade**\\\\nAs Sculpted Keepers, these individuals don the lion costume and perform the highly honored ritual of the lion dance (481s). Closer inspection reveals the \\\\\"boss\\\\\" is, in fact, two individuals within the costume, with the main dancer controlling the mouth and adjusting the head. These Sculpted Keepers serve as messengers of the heavens, and their Divine Invocation\\xe2\\x80\\x94the act of calling upon a divine or spiritual force\\xe2\\x80\\x94is likely performed through their lion dance, which also grants them their power. Tragically, like many other entities, the Sculpted Keepers suffered immensely during Mesmer\\'s Crusade from the Horns Scent descent. They were prime targets, with the majority being impaled and burned, bringing the debrief to its conclusion around 600s.\",\"full_summmary\":true}}'"
   ]
  },
  {
   "cell_type": "code",
   "execution_count": null,
   "id": "ef98bed2",
   "metadata": {},
   "outputs": [],
   "source": [
    "import json"
   ]
  },
  {
   "cell_type": "code",
   "execution_count": 5,
   "id": "72235353",
   "metadata": {},
   "outputs": [],
   "source": [
    "decoded_string = response.decode('utf-8')\n",
    "\n",
    "# STEP 2: Parse the string into a Python dictionary.\n",
    "# The json.loads() function does this (loads = load string).\n",
    "data_as_dictionary = json.loads(decoded_string)\n"
   ]
  },
  {
   "cell_type": "code",
   "execution_count": 8,
   "id": "b9fc367e",
   "metadata": {},
   "outputs": [
    {
     "name": "stdout",
     "output_type": "stream",
     "text": [
      "**A Covert Title:** Operation: Elden Lore Synthesis - Phase I: Ascensions and Sacrifices\n",
      "\n",
      "**Executive Overview:**\n",
      "This debrief synthesizes critical intelligence regarding several key figures and events within the realm, detailing Midra's tragic pursuit of the Frenzied Flame and his eventual succumbing to its madness despite Lady Nanaya's efforts. It then shifts focus to Miquella's ambitious quest for godhood, his manipulation of Mohg, and the forcible creation of his consort using Radahn's soul, ultimately thwarted by the operative's intervention in alignment with St. Trina's wishes. The report concludes with an analysis of a sympathetic character's final moments and the origins and fate of the Dancing Lion's Sculpted Keepers, who suffered greatly during Mesmer's Crusade.\n",
      "\n",
      "**Key Events Log (Table of Contents):**\n",
      "*   **00s-120s: The Tragedy of Midra and the Frenzied Flame**\n",
      "*   **121s-240s: Miquella's Divine Ambition and St. Trina's Plea**\n",
      "*   **241s-360s: The Forcible Creation of Miquella's Consort**\n",
      "*   **361s-480s: The Age of Compassion Thwarted & The Dancing Lion's Origin**\n",
      "*   **481s-600s: The Sculpted Keepers and Mesmer's Crusade**\n",
      "\n",
      "**The Full Narrative Debrief:**\n",
      "\n",
      "**The Tragedy of Midra and the Frenzied Flame**\n",
      "The debrief commences with the tragic account of Midra's pursuit of becoming the Lord of Frenzied Flame (00s). This power, capable of melting away everything, including the revered Immortal Spirits central to the Horns Scent beliefs and culture, was strictly forbidden. Midra's actions were perceived as a direct threat, leading to the overrun of his mansion and the torture of his servants, whose bodies can be found outside. His execution was brutal, involving the Sword of Damnation, whose golden barbs inflicted eternal agony. However, his lady, Nanaya, urged him to endure, allowing him to resist the madness of the Frenzied Flame for a time. Nanaya is observed clutching an individual who failed to become a lord, leaving only a spine. Ultimately, Midra could resist no longer, succumbing to the flame. It is theorized that while Midra was initially not strong enough for the Frenzied Flame, the prolonged suffering elevated him to a state where he could briefly withstand its madness, as detailed up to the 120s mark.\n",
      "\n",
      "**Miquella's Divine Ambition and St. Trina's Plea**\n",
      "Following Midra's conclusion, the focus shifts to Miquella, an Empyrean with the ability to charm and manipulate others (121s). Miquella's ultimate goal is to be reborn as a God, a process for which he abandoned parts of his body throughout the Shadow Realm, most notably his other self and loving aspect, St. Trina. St. Trina, however, desires Miquella's demise, believing godhood would be a prison. At the Tower of Shadow, a Divine Gateway exists where Miquella intends to ascend, mirroring Amica's own ascension. To become a God, Miquella requires both a Lord and a vessel for that Lord's soul. Utilizing his charm, Miquella compelled Mohg to enter the Shadow Realm, setting the stage for the next phase of his plan, which unfolds through the 240s mark.\n",
      "\n",
      "**The Forcible Creation of Miquella's Consort**\n",
      "Miquella's plan required not only Mohg's entry into the Shadow Realm but also a suitable vessel. This is where the operative's intervention becomes crucial (241s). After Mohg is swiftly eliminated, his body is stolen and brought to Miquella. The final component needed was a Lord's soul. In his youth, Miquella was impressed by Radahn's strength, a stark contrast to his and his sister's cursed bodies, leading him to wish for Radahn to become his consort. Radahn, however, denied this offer. Undeterred, Miquella devised a plan to forcibly take Radahn as his consort, dispatching Malenia to kill him. In a pivotal cutscene, Malenia utters, \"Miquella awaits the O promised consort.\" Radahn proved too formidable for Malenia. Once again, the operative's actions were decisive, leading to Radahn's defeat. Miquella then placed Radahn's soul into Mohg's body, thereby creating his consort, evidenced by the horns sprouting throughout the new form, concluding this segment around 360s.\n",
      "\n",
      "**The Age of Compassion Thwarted & The Dancing Lion's Origin**\n",
      "Miquella's ultimate desire was to usher in an age of compassion (361s). However, the operative's actions fulfilled St. Trina's opposing wish, resulting in the elimination of both Miquella and his newly formed consort, yielding the remembrance of a God and a Lord. The narrative then briefly touches upon a sympathetic character's final moments, who, while holding back the Abyssal serpent, calls upon their mother one last time, revealing their true curse. The debrief then transitions to the lore of the Dancing Lion. Horned Warriors are selected as Divine Beast Warriors based on their combat prowess. Among these, those excelling in Divine Invocation are chosen to become Sculpted Keepers, a process detailed up to the 480s mark.\n",
      "\n",
      "**The Sculpted Keepers and Mesmer's Crusade**\n",
      "As Sculpted Keepers, these individuals don the lion costume and perform the highly honored ritual of the lion dance (481s). Closer inspection reveals the \"boss\" is, in fact, two individuals within the costume, with the main dancer controlling the mouth and adjusting the head. These Sculpted Keepers serve as messengers of the heavens, and their Divine Invocation—the act of calling upon a divine or spiritual force—is likely performed through their lion dance, which also grants them their power. Tragically, like many other entities, the Sculpted Keepers suffered immensely during Mesmer's Crusade from the Horns Scent descent. They were prime targets, with the majority being impaled and burned, bringing the debrief to its conclusion around 600s.\n"
     ]
    }
   ],
   "source": [
    "print(data_as_dictionary['response']['answer'])"
   ]
  },
  {
   "cell_type": "code",
   "execution_count": null,
   "id": "60725a67",
   "metadata": {},
   "outputs": [],
   "source": []
  }
 ],
 "metadata": {
  "kernelspec": {
   "display_name": "yt_summarizer",
   "language": "python",
   "name": "python3"
  },
  "language_info": {
   "codemirror_mode": {
    "name": "ipython",
    "version": 3
   },
   "file_extension": ".py",
   "mimetype": "text/x-python",
   "name": "python",
   "nbconvert_exporter": "python",
   "pygments_lexer": "ipython3",
   "version": "3.13.7"
  }
 },
 "nbformat": 4,
 "nbformat_minor": 5
}
